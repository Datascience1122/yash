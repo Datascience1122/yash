{
 "cells": [
  {
   "cell_type": "markdown",
   "id": "c9846a3e",
   "metadata": {},
   "source": [
    "# Selenium"
   ]
  },
  {
   "cell_type": "code",
   "execution_count": 1,
   "id": "102f6cee",
   "metadata": {},
   "outputs": [
    {
     "name": "stdout",
     "output_type": "stream",
     "text": [
      "Collecting selenium\n",
      "  Obtaining dependency information for selenium from https://files.pythonhosted.org/packages/f2/7d/3a0b9c229d87a189b64c3b8e6d87a970a1ef7875995dc31bd18e65fa1c17/selenium-4.22.0-py3-none-any.whl.metadata\n",
      "  Downloading selenium-4.22.0-py3-none-any.whl.metadata (7.0 kB)\n",
      "Requirement already satisfied: urllib3[socks]<3,>=1.26 in c:\\users\\hriti\\anaconda3\\new folder\\lib\\site-packages (from selenium) (1.26.16)\n",
      "Collecting trio~=0.17 (from selenium)\n",
      "  Obtaining dependency information for trio~=0.17 from https://files.pythonhosted.org/packages/76/51/12d78ec8abcbda51d8f115d98ebd3ee3da9d9d9af00ac69d3097c5b8d51a/trio-0.25.1-py3-none-any.whl.metadata\n",
      "  Downloading trio-0.25.1-py3-none-any.whl.metadata (8.7 kB)\n",
      "Collecting trio-websocket~=0.9 (from selenium)\n",
      "  Obtaining dependency information for trio-websocket~=0.9 from https://files.pythonhosted.org/packages/48/be/a9ae5f50cad5b6f85bd2574c2c923730098530096e170c1ce7452394d7aa/trio_websocket-0.11.1-py3-none-any.whl.metadata\n",
      "  Downloading trio_websocket-0.11.1-py3-none-any.whl.metadata (4.7 kB)\n",
      "Requirement already satisfied: certifi>=2021.10.8 in c:\\users\\hriti\\anaconda3\\new folder\\lib\\site-packages (from selenium) (2023.7.22)\n",
      "Collecting typing_extensions>=4.9.0 (from selenium)\n",
      "  Obtaining dependency information for typing_extensions>=4.9.0 from https://files.pythonhosted.org/packages/26/9f/ad63fc0248c5379346306f8668cda6e2e2e9c95e01216d2b8ffd9ff037d0/typing_extensions-4.12.2-py3-none-any.whl.metadata\n",
      "  Downloading typing_extensions-4.12.2-py3-none-any.whl.metadata (3.0 kB)\n",
      "Collecting websocket-client>=1.8.0 (from selenium)\n",
      "  Obtaining dependency information for websocket-client>=1.8.0 from https://files.pythonhosted.org/packages/5a/84/44687a29792a70e111c5c477230a72c4b957d88d16141199bf9acb7537a3/websocket_client-1.8.0-py3-none-any.whl.metadata\n",
      "  Downloading websocket_client-1.8.0-py3-none-any.whl.metadata (8.0 kB)\n",
      "Collecting attrs>=23.2.0 (from trio~=0.17->selenium)\n",
      "  Obtaining dependency information for attrs>=23.2.0 from https://files.pythonhosted.org/packages/e0/44/827b2a91a5816512fcaf3cc4ebc465ccd5d598c45cefa6703fcf4a79018f/attrs-23.2.0-py3-none-any.whl.metadata\n",
      "  Downloading attrs-23.2.0-py3-none-any.whl.metadata (9.5 kB)\n",
      "Requirement already satisfied: sortedcontainers in c:\\users\\hriti\\anaconda3\\new folder\\lib\\site-packages (from trio~=0.17->selenium) (2.4.0)\n",
      "Requirement already satisfied: idna in c:\\users\\hriti\\anaconda3\\new folder\\lib\\site-packages (from trio~=0.17->selenium) (3.4)\n",
      "Collecting outcome (from trio~=0.17->selenium)\n",
      "  Obtaining dependency information for outcome from https://files.pythonhosted.org/packages/55/8b/5ab7257531a5d830fc8000c476e63c935488d74609b50f9384a643ec0a62/outcome-1.3.0.post0-py2.py3-none-any.whl.metadata\n",
      "  Downloading outcome-1.3.0.post0-py2.py3-none-any.whl.metadata (2.6 kB)\n",
      "Collecting sniffio>=1.3.0 (from trio~=0.17->selenium)\n",
      "  Obtaining dependency information for sniffio>=1.3.0 from https://files.pythonhosted.org/packages/e9/44/75a9c9421471a6c4805dbf2356f7c181a29c1879239abab1ea2cc8f38b40/sniffio-1.3.1-py3-none-any.whl.metadata\n",
      "  Downloading sniffio-1.3.1-py3-none-any.whl.metadata (3.9 kB)\n",
      "Requirement already satisfied: cffi>=1.14 in c:\\users\\hriti\\anaconda3\\new folder\\lib\\site-packages (from trio~=0.17->selenium) (1.15.1)\n",
      "Collecting wsproto>=0.14 (from trio-websocket~=0.9->selenium)\n",
      "  Obtaining dependency information for wsproto>=0.14 from https://files.pythonhosted.org/packages/78/58/e860788190eba3bcce367f74d29c4675466ce8dddfba85f7827588416f01/wsproto-1.2.0-py3-none-any.whl.metadata\n",
      "  Downloading wsproto-1.2.0-py3-none-any.whl.metadata (5.6 kB)\n",
      "Requirement already satisfied: PySocks!=1.5.7,<2.0,>=1.5.6 in c:\\users\\hriti\\anaconda3\\new folder\\lib\\site-packages (from urllib3[socks]<3,>=1.26->selenium) (1.7.1)\n",
      "Requirement already satisfied: pycparser in c:\\users\\hriti\\anaconda3\\new folder\\lib\\site-packages (from cffi>=1.14->trio~=0.17->selenium) (2.21)\n",
      "Collecting h11<1,>=0.9.0 (from wsproto>=0.14->trio-websocket~=0.9->selenium)\n",
      "  Obtaining dependency information for h11<1,>=0.9.0 from https://files.pythonhosted.org/packages/95/04/ff642e65ad6b90db43e668d70ffb6736436c7ce41fcc549f4e9472234127/h11-0.14.0-py3-none-any.whl.metadata\n",
      "  Downloading h11-0.14.0-py3-none-any.whl.metadata (8.2 kB)\n",
      "Downloading selenium-4.22.0-py3-none-any.whl (9.4 MB)\n",
      "   ---------------------------------------- 0.0/9.4 MB ? eta -:--:--\n",
      "   ---------------------------------------- 0.0/9.4 MB ? eta -:--:--\n",
      "   ---------------------------------------- 0.1/9.4 MB 812.7 kB/s eta 0:00:12\n",
      "   ---------------------------------------- 0.1/9.4 MB 751.6 kB/s eta 0:00:13\n",
      "    --------------------------------------- 0.1/9.4 MB 722.1 kB/s eta 0:00:13\n",
      "    --------------------------------------- 0.2/9.4 MB 748.1 kB/s eta 0:00:13\n",
      "    --------------------------------------- 0.2/9.4 MB 778.2 kB/s eta 0:00:12\n",
      "   - -------------------------------------- 0.2/9.4 MB 838.1 kB/s eta 0:00:11\n",
      "   - -------------------------------------- 0.3/9.4 MB 798.7 kB/s eta 0:00:12\n",
      "   - -------------------------------------- 0.3/9.4 MB 811.9 kB/s eta 0:00:12\n",
      "   - -------------------------------------- 0.4/9.4 MB 841.6 kB/s eta 0:00:11\n",
      "   - -------------------------------------- 0.4/9.4 MB 839.7 kB/s eta 0:00:11\n",
      "   -- ------------------------------------- 0.5/9.4 MB 861.1 kB/s eta 0:00:11\n",
      "   -- ------------------------------------- 0.5/9.4 MB 844.7 kB/s eta 0:00:11\n",
      "   -- ------------------------------------- 0.6/9.4 MB 884.7 kB/s eta 0:00:11\n",
      "   -- ------------------------------------- 0.6/9.4 MB 878.1 kB/s eta 0:00:11\n",
      "   -- ------------------------------------- 0.7/9.4 MB 897.2 kB/s eta 0:00:10\n",
      "   -- ------------------------------------- 0.7/9.4 MB 891.6 kB/s eta 0:00:10\n",
      "   --- ------------------------------------ 0.8/9.4 MB 919.5 kB/s eta 0:00:10\n",
      "   --- ------------------------------------ 0.8/9.4 MB 919.5 kB/s eta 0:00:10\n",
      "   --- ------------------------------------ 0.8/9.4 MB 919.5 kB/s eta 0:00:10\n",
      "   --- ------------------------------------ 0.9/9.4 MB 891.8 kB/s eta 0:00:10\n",
      "   --- ------------------------------------ 0.9/9.4 MB 874.1 kB/s eta 0:00:10\n",
      "   --- ------------------------------------ 0.9/9.4 MB 854.2 kB/s eta 0:00:11\n",
      "   --- ------------------------------------ 0.9/9.4 MB 833.1 kB/s eta 0:00:11\n",
      "   --- ------------------------------------ 0.9/9.4 MB 833.1 kB/s eta 0:00:11\n",
      "   ---- ----------------------------------- 1.0/9.4 MB 772.8 kB/s eta 0:00:11\n",
      "   ---- ----------------------------------- 1.0/9.4 MB 772.8 kB/s eta 0:00:11\n",
      "   ---- ----------------------------------- 1.0/9.4 MB 760.3 kB/s eta 0:00:12\n",
      "   ---- ----------------------------------- 1.0/9.4 MB 732.5 kB/s eta 0:00:12\n",
      "   ---- ----------------------------------- 1.0/9.4 MB 714.1 kB/s eta 0:00:12\n",
      "   ---- ----------------------------------- 1.0/9.4 MB 705.0 kB/s eta 0:00:12\n",
      "   ---- ----------------------------------- 1.0/9.4 MB 682.7 kB/s eta 0:00:13\n",
      "   ---- ----------------------------------- 1.1/9.4 MB 682.2 kB/s eta 0:00:13\n",
      "   ---- ----------------------------------- 1.1/9.4 MB 668.4 kB/s eta 0:00:13\n",
      "   ---- ----------------------------------- 1.1/9.4 MB 661.7 kB/s eta 0:00:13\n",
      "   ---- ----------------------------------- 1.1/9.4 MB 661.6 kB/s eta 0:00:13\n",
      "   ---- ----------------------------------- 1.1/9.4 MB 649.4 kB/s eta 0:00:13\n",
      "   ---- ----------------------------------- 1.1/9.4 MB 638.2 kB/s eta 0:00:13\n",
      "   ---- ----------------------------------- 1.2/9.4 MB 638.2 kB/s eta 0:00:13\n",
      "   ----- ---------------------------------- 1.2/9.4 MB 633.5 kB/s eta 0:00:14\n",
      "   ----- ---------------------------------- 1.2/9.4 MB 634.0 kB/s eta 0:00:13\n",
      "   ----- ---------------------------------- 1.2/9.4 MB 629.3 kB/s eta 0:00:14\n",
      "   ----- ---------------------------------- 1.3/9.4 MB 629.8 kB/s eta 0:00:13\n",
      "   ----- ---------------------------------- 1.3/9.4 MB 630.3 kB/s eta 0:00:13\n",
      "   ----- ---------------------------------- 1.3/9.4 MB 630.8 kB/s eta 0:00:13\n",
      "   ----- ---------------------------------- 1.4/9.4 MB 626.9 kB/s eta 0:00:13\n",
      "   ----- ---------------------------------- 1.4/9.4 MB 627.5 kB/s eta 0:00:13\n",
      "   ------ --------------------------------- 1.4/9.4 MB 632.6 kB/s eta 0:00:13\n",
      "   ------ --------------------------------- 1.5/9.4 MB 633.0 kB/s eta 0:00:13\n",
      "   ------ --------------------------------- 1.5/9.4 MB 633.4 kB/s eta 0:00:13\n",
      "   ------ --------------------------------- 1.5/9.4 MB 633.8 kB/s eta 0:00:13\n",
      "   ------ --------------------------------- 1.6/9.4 MB 638.7 kB/s eta 0:00:13\n",
      "   ------ --------------------------------- 1.6/9.4 MB 643.1 kB/s eta 0:00:13\n",
      "   ------ --------------------------------- 1.6/9.4 MB 643.3 kB/s eta 0:00:13\n",
      "   ------- -------------------------------- 1.7/9.4 MB 647.4 kB/s eta 0:00:12\n",
      "   ------- -------------------------------- 1.7/9.4 MB 655.3 kB/s eta 0:00:12\n",
      "   ------- -------------------------------- 1.8/9.4 MB 655.2 kB/s eta 0:00:12\n",
      "   ------- -------------------------------- 1.8/9.4 MB 662.9 kB/s eta 0:00:12\n",
      "   ------- -------------------------------- 1.9/9.4 MB 666.4 kB/s eta 0:00:12\n",
      "   -------- ------------------------------- 1.9/9.4 MB 673.4 kB/s eta 0:00:12\n",
      "   -------- ------------------------------- 1.9/9.4 MB 676.9 kB/s eta 0:00:12\n",
      "   -------- ------------------------------- 2.0/9.4 MB 679.9 kB/s eta 0:00:11\n",
      "   -------- ------------------------------- 2.0/9.4 MB 683.1 kB/s eta 0:00:11\n",
      "   -------- ------------------------------- 2.1/9.4 MB 692.6 kB/s eta 0:00:11\n",
      "   --------- ------------------------------ 2.1/9.4 MB 692.0 kB/s eta 0:00:11\n",
      "   --------- ------------------------------ 2.2/9.4 MB 691.7 kB/s eta 0:00:11\n",
      "   --------- ------------------------------ 2.2/9.4 MB 691.1 kB/s eta 0:00:11\n",
      "   --------- ------------------------------ 2.2/9.4 MB 693.5 kB/s eta 0:00:11\n",
      "   --------- ------------------------------ 2.3/9.4 MB 696.3 kB/s eta 0:00:11\n",
      "   --------- ------------------------------ 2.3/9.4 MB 695.7 kB/s eta 0:00:11\n",
      "   --------- ------------------------------ 2.4/9.4 MB 698.1 kB/s eta 0:00:11\n",
      "   ---------- ----------------------------- 2.4/9.4 MB 700.6 kB/s eta 0:00:11\n",
      "   ---------- ----------------------------- 2.4/9.4 MB 702.9 kB/s eta 0:00:10\n",
      "   ---------- ----------------------------- 2.5/9.4 MB 705.4 kB/s eta 0:00:10\n",
      "   ---------- ----------------------------- 2.5/9.4 MB 707.6 kB/s eta 0:00:10\n",
      "   ---------- ----------------------------- 2.5/9.4 MB 709.8 kB/s eta 0:00:10\n",
      "   ----------- ---------------------------- 2.6/9.4 MB 714.7 kB/s eta 0:00:10\n",
      "   ----------- ---------------------------- 2.6/9.4 MB 713.9 kB/s eta 0:00:10\n",
      "   ----------- ---------------------------- 2.7/9.4 MB 721.2 kB/s eta 0:00:10\n",
      "   ----------- ---------------------------- 2.7/9.4 MB 726.0 kB/s eta 0:00:10\n",
      "   ----------- ---------------------------- 2.8/9.4 MB 727.6 kB/s eta 0:00:10\n",
      "   ------------ --------------------------- 2.8/9.4 MB 735.0 kB/s eta 0:00:09\n",
      "   ------------ --------------------------- 2.9/9.4 MB 739.3 kB/s eta 0:00:09\n",
      "   ------------ --------------------------- 2.9/9.4 MB 737.9 kB/s eta 0:00:09\n",
      "   ------------ --------------------------- 3.0/9.4 MB 747.1 kB/s eta 0:00:09\n",
      "   ------------ --------------------------- 3.1/9.4 MB 751.0 kB/s eta 0:00:09\n",
      "   ------------- -------------------------- 3.1/9.4 MB 757.6 kB/s eta 0:00:09\n",
      "   ------------- -------------------------- 3.2/9.4 MB 761.3 kB/s eta 0:00:09\n",
      "   ------------- -------------------------- 3.2/9.4 MB 767.5 kB/s eta 0:00:09\n",
      "   ------------- -------------------------- 3.3/9.4 MB 769.1 kB/s eta 0:00:09\n",
      "   -------------- ------------------------- 3.3/9.4 MB 774.5 kB/s eta 0:00:08\n",
      "   -------------- ------------------------- 3.4/9.4 MB 773.2 kB/s eta 0:00:08\n",
      "   -------------- ------------------------- 3.4/9.4 MB 774.2 kB/s eta 0:00:08\n",
      "   -------------- ------------------------- 3.5/9.4 MB 775.3 kB/s eta 0:00:08\n",
      "   -------------- ------------------------- 3.5/9.4 MB 778.7 kB/s eta 0:00:08\n",
      "   --------------- ------------------------ 3.6/9.4 MB 782.0 kB/s eta 0:00:08\n",
      "   --------------- ------------------------ 3.6/9.4 MB 781.5 kB/s eta 0:00:08\n",
      "   --------------- ------------------------ 3.6/9.4 MB 783.8 kB/s eta 0:00:08\n",
      "   --------------- ------------------------ 3.6/9.4 MB 778.1 kB/s eta 0:00:08\n",
      "   --------------- ------------------------ 3.7/9.4 MB 779.0 kB/s eta 0:00:08\n",
      "   --------------- ------------------------ 3.7/9.4 MB 777.8 kB/s eta 0:00:08\n",
      "   --------------- ------------------------ 3.7/9.4 MB 776.6 kB/s eta 0:00:08\n",
      "   ---------------- ----------------------- 3.8/9.4 MB 775.5 kB/s eta 0:00:08\n",
      "   ---------------- ----------------------- 3.8/9.4 MB 774.4 kB/s eta 0:00:08\n",
      "   ---------------- ----------------------- 3.9/9.4 MB 775.3 kB/s eta 0:00:08\n",
      "   ---------------- ----------------------- 3.9/9.4 MB 773.7 kB/s eta 0:00:08\n",
      "   ---------------- ----------------------- 3.9/9.4 MB 775.0 kB/s eta 0:00:08\n",
      "   ---------------- ----------------------- 4.0/9.4 MB 773.9 kB/s eta 0:00:08\n",
      "   ---------------- ----------------------- 4.0/9.4 MB 774.8 kB/s eta 0:00:08\n",
      "   ----------------- ---------------------- 4.0/9.4 MB 773.5 kB/s eta 0:00:07\n",
      "   ----------------- ---------------------- 4.1/9.4 MB 774.3 kB/s eta 0:00:07\n",
      "   ----------------- ---------------------- 4.1/9.4 MB 775.2 kB/s eta 0:00:07\n",
      "   ----------------- ---------------------- 4.2/9.4 MB 778.0 kB/s eta 0:00:07\n",
      "   ----------------- ---------------------- 4.2/9.4 MB 778.8 kB/s eta 0:00:07\n",
      "   ------------------ --------------------- 4.3/9.4 MB 781.5 kB/s eta 0:00:07\n",
      "   ------------------ --------------------- 4.3/9.4 MB 782.4 kB/s eta 0:00:07\n",
      "   ------------------ --------------------- 4.4/9.4 MB 785.0 kB/s eta 0:00:07\n",
      "   ------------------ --------------------- 4.4/9.4 MB 787.6 kB/s eta 0:00:07\n",
      "   ------------------ --------------------- 4.4/9.4 MB 786.4 kB/s eta 0:00:07\n",
      "   ------------------ --------------------- 4.5/9.4 MB 785.3 kB/s eta 0:00:07\n",
      "   ------------------- -------------------- 4.5/9.4 MB 786.4 kB/s eta 0:00:07\n",
      "   ------------------- -------------------- 4.5/9.4 MB 786.7 kB/s eta 0:00:07\n",
      "   ------------------- -------------------- 4.6/9.4 MB 785.7 kB/s eta 0:00:07\n",
      "   ------------------- -------------------- 4.6/9.4 MB 784.7 kB/s eta 0:00:07\n",
      "   ------------------- -------------------- 4.6/9.4 MB 785.7 kB/s eta 0:00:07\n",
      "   ------------------- -------------------- 4.7/9.4 MB 786.1 kB/s eta 0:00:07\n",
      "   -------------------- ------------------- 4.7/9.4 MB 786.8 kB/s eta 0:00:06\n",
      "   -------------------- ------------------- 4.8/9.4 MB 787.8 kB/s eta 0:00:06\n",
      "   -------------------- ------------------- 4.8/9.4 MB 788.1 kB/s eta 0:00:06\n",
      "   -------------------- ------------------- 4.9/9.4 MB 790.4 kB/s eta 0:00:06\n",
      "   -------------------- ------------------- 4.9/9.4 MB 789.1 kB/s eta 0:00:06\n",
      "   --------------------- ------------------ 5.0/9.4 MB 795.0 kB/s eta 0:00:06\n",
      "   --------------------- ------------------ 5.0/9.4 MB 794.0 kB/s eta 0:00:06\n",
      "   --------------------- ------------------ 5.0/9.4 MB 796.2 kB/s eta 0:00:06\n",
      "   --------------------- ------------------ 5.1/9.4 MB 796.7 kB/s eta 0:00:06\n",
      "   --------------------- ------------------ 5.1/9.4 MB 797.9 kB/s eta 0:00:06\n",
      "   --------------------- ------------------ 5.2/9.4 MB 800.0 kB/s eta 0:00:06\n",
      "   ---------------------- ----------------- 5.2/9.4 MB 798.3 kB/s eta 0:00:06\n",
      "   ---------------------- ----------------- 5.2/9.4 MB 796.1 kB/s eta 0:00:06\n",
      "   ---------------------- ----------------- 5.3/9.4 MB 791.4 kB/s eta 0:00:06\n",
      "   ---------------------- ----------------- 5.3/9.4 MB 792.6 kB/s eta 0:00:06\n",
      "   ---------------------- ----------------- 5.3/9.4 MB 787.9 kB/s eta 0:00:06\n",
      "   ---------------------- ----------------- 5.3/9.4 MB 787.0 kB/s eta 0:00:06\n",
      "   ---------------------- ----------------- 5.4/9.4 MB 786.4 kB/s eta 0:00:06\n",
      "   ---------------------- ----------------- 5.4/9.4 MB 785.8 kB/s eta 0:00:06\n",
      "   ---------------------- ----------------- 5.4/9.4 MB 783.1 kB/s eta 0:00:06\n",
      "   ----------------------- ---------------- 5.4/9.4 MB 780.6 kB/s eta 0:00:06\n",
      "   ----------------------- ---------------- 5.5/9.4 MB 779.7 kB/s eta 0:00:06\n",
      "   ----------------------- ---------------- 5.5/9.4 MB 778.9 kB/s eta 0:00:06\n",
      "   ----------------------- ---------------- 5.5/9.4 MB 779.5 kB/s eta 0:00:05\n",
      "   ----------------------- ---------------- 5.6/9.4 MB 778.6 kB/s eta 0:00:05\n",
      "   ----------------------- ---------------- 5.6/9.4 MB 777.8 kB/s eta 0:00:05\n",
      "   ----------------------- ---------------- 5.6/9.4 MB 777.1 kB/s eta 0:00:05\n",
      "   ------------------------ --------------- 5.7/9.4 MB 777.7 kB/s eta 0:00:05\n",
      "   ------------------------ --------------- 5.7/9.4 MB 778.3 kB/s eta 0:00:05\n",
      "   ------------------------ --------------- 5.7/9.4 MB 779.2 kB/s eta 0:00:05\n",
      "   ------------------------ --------------- 5.8/9.4 MB 779.5 kB/s eta 0:00:05\n",
      "   ------------------------ --------------- 5.8/9.4 MB 780.4 kB/s eta 0:00:05\n",
      "   ------------------------ --------------- 5.9/9.4 MB 777.9 kB/s eta 0:00:05\n",
      "   ------------------------ --------------- 5.9/9.4 MB 777.2 kB/s eta 0:00:05\n",
      "   ------------------------- -------------- 5.9/9.4 MB 776.5 kB/s eta 0:00:05\n",
      "   ------------------------- -------------- 6.0/9.4 MB 775.5 kB/s eta 0:00:05\n",
      "   ------------------------- -------------- 6.0/9.4 MB 773.4 kB/s eta 0:00:05\n",
      "   ------------------------- -------------- 6.0/9.4 MB 773.0 kB/s eta 0:00:05\n",
      "   ------------------------- -------------- 6.0/9.4 MB 775.1 kB/s eta 0:00:05\n",
      "   ------------------------- -------------- 6.1/9.4 MB 772.7 kB/s eta 0:00:05\n",
      "   ------------------------- -------------- 6.1/9.4 MB 773.2 kB/s eta 0:00:05\n",
      "   -------------------------- ------------- 6.2/9.4 MB 772.5 kB/s eta 0:00:05\n",
      "   -------------------------- ------------- 6.2/9.4 MB 771.8 kB/s eta 0:00:05\n",
      "   -------------------------- ------------- 6.2/9.4 MB 771.1 kB/s eta 0:00:05\n",
      "   -------------------------- ------------- 6.2/9.4 MB 772.0 kB/s eta 0:00:05\n",
      "   -------------------------- ------------- 6.3/9.4 MB 772.8 kB/s eta 0:00:05\n",
      "   -------------------------- ------------- 6.3/9.4 MB 772.1 kB/s eta 0:00:05\n",
      "   -------------------------- ------------- 6.4/9.4 MB 772.5 kB/s eta 0:00:04\n",
      "   --------------------------- ------------ 6.4/9.4 MB 771.8 kB/s eta 0:00:04\n",
      "   --------------------------- ------------ 6.4/9.4 MB 771.4 kB/s eta 0:00:04\n",
      "   --------------------------- ------------ 6.4/9.4 MB 769.3 kB/s eta 0:00:04\n",
      "   --------------------------- ------------ 6.5/9.4 MB 768.8 kB/s eta 0:00:04\n",
      "   --------------------------- ------------ 6.5/9.4 MB 768.2 kB/s eta 0:00:04\n",
      "   --------------------------- ------------ 6.5/9.4 MB 767.4 kB/s eta 0:00:04\n",
      "   --------------------------- ------------ 6.6/9.4 MB 767.0 kB/s eta 0:00:04\n",
      "   --------------------------- ------------ 6.6/9.4 MB 766.4 kB/s eta 0:00:04\n",
      "   ---------------------------- ----------- 6.6/9.4 MB 767.0 kB/s eta 0:00:04\n",
      "   ---------------------------- ----------- 6.7/9.4 MB 764.8 kB/s eta 0:00:04\n",
      "   ---------------------------- ----------- 6.7/9.4 MB 766.8 kB/s eta 0:00:04\n",
      "   ---------------------------- ----------- 6.7/9.4 MB 766.2 kB/s eta 0:00:04\n",
      "   ---------------------------- ----------- 6.8/9.4 MB 765.6 kB/s eta 0:00:04\n",
      "   ---------------------------- ----------- 6.8/9.4 MB 765.0 kB/s eta 0:00:04\n",
      "   ---------------------------- ----------- 6.8/9.4 MB 764.4 kB/s eta 0:00:04\n",
      "   ----------------------------- ---------- 6.9/9.4 MB 766.1 kB/s eta 0:00:04\n",
      "   ----------------------------- ---------- 6.9/9.4 MB 765.5 kB/s eta 0:00:04\n",
      "   ----------------------------- ---------- 7.0/9.4 MB 767.2 kB/s eta 0:00:04\n",
      "   ----------------------------- ---------- 7.0/9.4 MB 768.9 kB/s eta 0:00:04\n",
      "   ----------------------------- ---------- 7.1/9.4 MB 769.2 kB/s eta 0:00:04\n",
      "   ------------------------------ --------- 7.1/9.4 MB 770.0 kB/s eta 0:00:04\n",
      "   ------------------------------ --------- 7.1/9.4 MB 771.6 kB/s eta 0:00:03\n",
      "   ------------------------------ --------- 7.2/9.4 MB 773.2 kB/s eta 0:00:03\n",
      "   ------------------------------ --------- 7.2/9.4 MB 771.4 kB/s eta 0:00:03\n",
      "   ------------------------------ --------- 7.3/9.4 MB 773.0 kB/s eta 0:00:03\n",
      "   ------------------------------ --------- 7.3/9.4 MB 772.4 kB/s eta 0:00:03\n",
      "   ------------------------------- -------- 7.3/9.4 MB 771.8 kB/s eta 0:00:03\n",
      "   ------------------------------- -------- 7.4/9.4 MB 772.0 kB/s eta 0:00:03\n",
      "   ------------------------------- -------- 7.4/9.4 MB 771.9 kB/s eta 0:00:03\n",
      "   ------------------------------- -------- 7.5/9.4 MB 772.2 kB/s eta 0:00:03\n",
      "   ------------------------------- -------- 7.5/9.4 MB 771.6 kB/s eta 0:00:03\n",
      "   ------------------------------- -------- 7.5/9.4 MB 772.2 kB/s eta 0:00:03\n",
      "   ------------------------------- -------- 7.5/9.4 MB 772.2 kB/s eta 0:00:03\n",
      "   -------------------------------- ------- 7.6/9.4 MB 772.2 kB/s eta 0:00:03\n",
      "   -------------------------------- ------- 7.6/9.4 MB 770.7 kB/s eta 0:00:03\n",
      "   -------------------------------- ------- 7.6/9.4 MB 768.9 kB/s eta 0:00:03\n",
      "   -------------------------------- ------- 7.6/9.4 MB 768.7 kB/s eta 0:00:03\n",
      "   -------------------------------- ------- 7.7/9.4 MB 768.0 kB/s eta 0:00:03\n",
      "   -------------------------------- ------- 7.7/9.4 MB 766.2 kB/s eta 0:00:03\n",
      "   -------------------------------- ------- 7.8/9.4 MB 766.9 kB/s eta 0:00:03\n",
      "   -------------------------------- ------- 7.8/9.4 MB 766.4 kB/s eta 0:00:03\n",
      "   --------------------------------- ------ 7.8/9.4 MB 765.9 kB/s eta 0:00:03\n",
      "   --------------------------------- ------ 7.8/9.4 MB 765.4 kB/s eta 0:00:03\n",
      "   --------------------------------- ------ 7.9/9.4 MB 765.7 kB/s eta 0:00:03\n",
      "   --------------------------------- ------ 7.9/9.4 MB 766.4 kB/s eta 0:00:02\n",
      "   --------------------------------- ------ 8.0/9.4 MB 765.9 kB/s eta 0:00:02\n",
      "   --------------------------------- ------ 8.0/9.4 MB 766.2 kB/s eta 0:00:02\n",
      "   ---------------------------------- ----- 8.0/9.4 MB 765.8 kB/s eta 0:00:02\n",
      "   ---------------------------------- ----- 8.1/9.4 MB 765.3 kB/s eta 0:00:02\n",
      "   ---------------------------------- ----- 8.1/9.4 MB 766.7 kB/s eta 0:00:02\n",
      "   ---------------------------------- ----- 8.2/9.4 MB 767.3 kB/s eta 0:00:02\n",
      "   ---------------------------------- ----- 8.2/9.4 MB 767.6 kB/s eta 0:00:02\n",
      "   ---------------------------------- ----- 8.3/9.4 MB 769.0 kB/s eta 0:00:02\n",
      "   ----------------------------------- ---- 8.3/9.4 MB 770.4 kB/s eta 0:00:02\n",
      "   ----------------------------------- ---- 8.3/9.4 MB 770.9 kB/s eta 0:00:02\n",
      "   ----------------------------------- ---- 8.4/9.4 MB 772.4 kB/s eta 0:00:02\n",
      "   ----------------------------------- ---- 8.4/9.4 MB 773.7 kB/s eta 0:00:02\n",
      "   ------------------------------------ --- 8.5/9.4 MB 775.0 kB/s eta 0:00:02\n",
      "   ------------------------------------ --- 8.6/9.4 MB 776.4 kB/s eta 0:00:02\n",
      "   ------------------------------------ --- 8.6/9.4 MB 776.8 kB/s eta 0:00:02\n",
      "   ------------------------------------ --- 8.6/9.4 MB 778.1 kB/s eta 0:00:02\n",
      "   ------------------------------------ --- 8.7/9.4 MB 781.3 kB/s eta 0:00:01\n",
      "   ------------------------------------- -- 8.8/9.4 MB 781.6 kB/s eta 0:00:01\n",
      "   ------------------------------------- -- 8.8/9.4 MB 784.8 kB/s eta 0:00:01\n",
      "   ------------------------------------- -- 8.8/9.4 MB 784.8 kB/s eta 0:00:01\n",
      "   ------------------------------------- -- 8.9/9.4 MB 785.0 kB/s eta 0:00:01\n",
      "   ------------------------------------- -- 8.9/9.4 MB 784.3 kB/s eta 0:00:01\n",
      "   ------------------------------------- -- 9.0/9.4 MB 783.6 kB/s eta 0:00:01\n",
      "   -------------------------------------- - 9.0/9.4 MB 783.0 kB/s eta 0:00:01\n",
      "   -------------------------------------- - 9.0/9.4 MB 781.8 kB/s eta 0:00:01\n",
      "   -------------------------------------- - 9.0/9.4 MB 781.1 kB/s eta 0:00:01\n",
      "   -------------------------------------- - 9.1/9.4 MB 780.6 kB/s eta 0:00:01\n",
      "   -------------------------------------- - 9.1/9.4 MB 780.1 kB/s eta 0:00:01\n",
      "   -------------------------------------- - 9.1/9.4 MB 778.6 kB/s eta 0:00:01\n",
      "   -------------------------------------- - 9.2/9.4 MB 779.1 kB/s eta 0:00:01\n",
      "   ---------------------------------------  9.2/9.4 MB 779.5 kB/s eta 0:00:01\n",
      "   ---------------------------------------  9.2/9.4 MB 778.9 kB/s eta 0:00:01\n",
      "   ---------------------------------------  9.3/9.4 MB 779.2 kB/s eta 0:00:01\n",
      "   ---------------------------------------  9.3/9.4 MB 778.7 kB/s eta 0:00:01\n",
      "   ---------------------------------------  9.4/9.4 MB 779.9 kB/s eta 0:00:01\n",
      "   ---------------------------------------  9.4/9.4 MB 779.5 kB/s eta 0:00:01\n",
      "   ---------------------------------------  9.4/9.4 MB 780.0 kB/s eta 0:00:01\n",
      "   ---------------------------------------- 9.4/9.4 MB 777.5 kB/s eta 0:00:00\n",
      "Downloading trio-0.25.1-py3-none-any.whl (467 kB)\n",
      "   ---------------------------------------- 0.0/467.7 kB ? eta -:--:--\n",
      "   -- ------------------------------------- 30.7/467.7 kB 1.3 MB/s eta 0:00:01\n",
      "   ------- -------------------------------- 81.9/467.7 kB 1.1 MB/s eta 0:00:01\n",
      "   ---------- ----------------------------- 122.9/467.7 kB 1.0 MB/s eta 0:00:01\n",
      "   -------------- ----------------------- 174.1/467.7 kB 952.6 kB/s eta 0:00:01\n",
      "   ----------------- ---------------------- 204.8/467.7 kB 1.0 MB/s eta 0:00:01\n",
      "   --------------------- ------------------ 245.8/467.7 kB 1.0 MB/s eta 0:00:01\n",
      "   ------------------------- -------------- 297.0/467.7 kB 1.0 MB/s eta 0:00:01\n",
      "   -------------------------- ----------- 327.7/467.7 kB 967.8 kB/s eta 0:00:01\n",
      "   ------------------------------ ------- 378.9/467.7 kB 908.0 kB/s eta 0:00:01\n",
      "   --------------------------------- ---- 409.6/467.7 kB 911.8 kB/s eta 0:00:01\n",
      "   ------------------------------------ - 450.6/467.7 kB 907.9 kB/s eta 0:00:01\n",
      "   -------------------------------------- 467.7/467.7 kB 886.5 kB/s eta 0:00:00\n",
      "Downloading trio_websocket-0.11.1-py3-none-any.whl (17 kB)\n",
      "Downloading typing_extensions-4.12.2-py3-none-any.whl (37 kB)\n",
      "Downloading websocket_client-1.8.0-py3-none-any.whl (58 kB)\n",
      "   ---------------------------------------- 0.0/58.8 kB ? eta -:--:--\n",
      "   ------ --------------------------------- 10.2/58.8 kB ? eta -:--:--\n",
      "   ---------------------------------------- 58.8/58.8 kB 1.0 MB/s eta 0:00:00\n",
      "Downloading attrs-23.2.0-py3-none-any.whl (60 kB)\n",
      "   ---------------------------------------- 0.0/60.8 kB ? eta -:--:--\n",
      "   ------ --------------------------------- 10.2/60.8 kB ? eta -:--:--\n",
      "   ---------------------------------------- 60.8/60.8 kB 647.6 kB/s eta 0:00:00\n",
      "Downloading sniffio-1.3.1-py3-none-any.whl (10 kB)\n",
      "Downloading wsproto-1.2.0-py3-none-any.whl (24 kB)\n",
      "Downloading outcome-1.3.0.post0-py2.py3-none-any.whl (10 kB)\n",
      "Downloading h11-0.14.0-py3-none-any.whl (58 kB)\n",
      "   ---------------------------------------- 0.0/58.3 kB ? eta -:--:--\n",
      "   --------------------- ------------------ 30.7/58.3 kB 1.3 MB/s eta 0:00:01\n",
      "   ---------------------------------------- 58.3/58.3 kB 1.0 MB/s eta 0:00:00\n",
      "Installing collected packages: websocket-client, typing_extensions, sniffio, h11, attrs, wsproto, outcome, trio, trio-websocket, selenium\n",
      "  Attempting uninstall: websocket-client\n",
      "    Found existing installation: websocket-client 0.58.0\n",
      "    Uninstalling websocket-client-0.58.0:\n",
      "      Successfully uninstalled websocket-client-0.58.0\n",
      "  Attempting uninstall: typing_extensions\n",
      "    Found existing installation: typing_extensions 4.7.1\n",
      "    Uninstalling typing_extensions-4.7.1:\n",
      "      Successfully uninstalled typing_extensions-4.7.1\n",
      "  Attempting uninstall: sniffio\n",
      "    Found existing installation: sniffio 1.2.0\n",
      "    Uninstalling sniffio-1.2.0:\n",
      "      Successfully uninstalled sniffio-1.2.0\n",
      "  Attempting uninstall: attrs\n",
      "    Found existing installation: attrs 22.1.0\n",
      "    Uninstalling attrs-22.1.0:\n",
      "      Successfully uninstalled attrs-22.1.0\n",
      "Successfully installed attrs-23.2.0 h11-0.14.0 outcome-1.3.0.post0 selenium-4.22.0 sniffio-1.3.1 trio-0.25.1 trio-websocket-0.11.1 typing_extensions-4.12.2 websocket-client-1.8.0 wsproto-1.2.0\n"
     ]
    }
   ],
   "source": [
    "!pip install selenium"
   ]
  },
  {
   "cell_type": "code",
   "execution_count": null,
   "id": "e164bde9",
   "metadata": {},
   "outputs": [],
   "source": []
  },
  {
   "cell_type": "code",
   "execution_count": 10,
   "id": "da064daf",
   "metadata": {},
   "outputs": [],
   "source": [
    "import selenium\n",
    "import pandas as pd\n",
    "from selenium import webdriver\n",
    "import warnings\n",
    "warnings.filterwarnings('ignore')\n",
    "from selenium.webdriver.common.by import By\n",
    "import time\n"
   ]
  },
  {
   "cell_type": "markdown",
   "id": "453d2688",
   "metadata": {},
   "source": [
    "# QUESTION NO 1"
   ]
  },
  {
   "cell_type": "code",
   "execution_count": 7,
   "id": "7e8580ee",
   "metadata": {},
   "outputs": [],
   "source": [
    "driver=webdriver.Chrome()"
   ]
  },
  {
   "cell_type": "code",
   "execution_count": 8,
   "id": "5dbc999d",
   "metadata": {},
   "outputs": [],
   "source": [
    "driver.get('https://www.naukri.com/')"
   ]
  },
  {
   "cell_type": "code",
   "execution_count": 10,
   "id": "1a769a26",
   "metadata": {},
   "outputs": [],
   "source": [
    "designation=driver.find_element(By.CLASS_NAME,\"suggestor-input \")\n",
    "designation.send_keys('Data Analyst')"
   ]
  },
  {
   "cell_type": "code",
   "execution_count": 13,
   "id": "458e7e5b",
   "metadata": {},
   "outputs": [],
   "source": [
    "location=driver.find_element(By.XPATH,\"/html/body/div[1]/div[7]/div/div/div[5]/div/div/div/div[1]/div/input\")\n",
    "location.send_keys('Delhi/NCR')"
   ]
  },
  {
   "cell_type": "code",
   "execution_count": 14,
   "id": "081dd2d5",
   "metadata": {},
   "outputs": [],
   "source": [
    "search=driver.find_element(By.CLASS_NAME,\"qsbSubmit\")\n",
    "search.click()"
   ]
  },
  {
   "cell_type": "code",
   "execution_count": 20,
   "id": "f64e3e37",
   "metadata": {},
   "outputs": [],
   "source": [
    "job_title=[]\n",
    "job_location=[]\n",
    "company_name=[]\n",
    "experience_required=[]"
   ]
  },
  {
   "cell_type": "code",
   "execution_count": 21,
   "id": "b0005566",
   "metadata": {},
   "outputs": [],
   "source": [
    "title_tag=driver.find_elements(By.XPATH,'//div[@class=\"cust-job-tuple layout-wrapper lay-2 sjw__tuple \"]/div/a')\n",
    "for i in title_tag[0:10]:\n",
    "    title=i.text\n",
    "    job_title.append(title)\n",
    "    \n",
    "#scrab the location\n",
    "\n",
    "location_tag=driver.find_elements(By.XPATH,'//span[@class=\"locWdth\"]')\n",
    "for i in location_tag[0:10]:\n",
    "    location=i.text\n",
    "    job_location.append(location)\n",
    "    \n",
    "#scrap the company\n",
    "\n",
    "company_tag=driver.find_elements(By.XPATH,'//div[@class=\" row2\"]/span/a[1]')\n",
    "for i in company_tag[0:10]:\n",
    "    com=i.text\n",
    "    company_name.append(com)\n",
    "#scap the experience\n",
    "\n",
    "experience_tag=driver.find_elements(By.XPATH,'//span[@class=\"expwdth\"]')\n",
    "for i in experience_tag[0:10]:\n",
    "    exp=i.text\n",
    "    experience_required.append(exp)\n",
    "    "
   ]
  },
  {
   "cell_type": "code",
   "execution_count": 22,
   "id": "bc2e5245",
   "metadata": {},
   "outputs": [
    {
     "name": "stdout",
     "output_type": "stream",
     "text": [
      "10 10 10 10\n"
     ]
    }
   ],
   "source": [
    "print(len(job_title),len(job_location),len(company_name),len(experience_required))"
   ]
  },
  {
   "cell_type": "code",
   "execution_count": 24,
   "id": "1c7ecc0a",
   "metadata": {},
   "outputs": [
    {
     "data": {
      "text/html": [
       "<div>\n",
       "<style scoped>\n",
       "    .dataframe tbody tr th:only-of-type {\n",
       "        vertical-align: middle;\n",
       "    }\n",
       "\n",
       "    .dataframe tbody tr th {\n",
       "        vertical-align: top;\n",
       "    }\n",
       "\n",
       "    .dataframe thead th {\n",
       "        text-align: right;\n",
       "    }\n",
       "</style>\n",
       "<table border=\"1\" class=\"dataframe\">\n",
       "  <thead>\n",
       "    <tr style=\"text-align: right;\">\n",
       "      <th></th>\n",
       "      <th>Title</th>\n",
       "      <th>Location</th>\n",
       "      <th>Company</th>\n",
       "      <th>Experience</th>\n",
       "    </tr>\n",
       "  </thead>\n",
       "  <tbody>\n",
       "    <tr>\n",
       "      <th>0</th>\n",
       "      <td>Data Analyst</td>\n",
       "      <td>Hybrid - Gurugram, India</td>\n",
       "      <td>Birlasoft</td>\n",
       "      <td>4-6 Yrs</td>\n",
       "    </tr>\n",
       "    <tr>\n",
       "      <th>1</th>\n",
       "      <td>Data Analyst CX</td>\n",
       "      <td>Kolkata, Mumbai, New Delhi, Hyderabad, Pune, C...</td>\n",
       "      <td>IDFC FIRST Bharat</td>\n",
       "      <td>5-10 Yrs</td>\n",
       "    </tr>\n",
       "    <tr>\n",
       "      <th>2</th>\n",
       "      <td>Data Analyst</td>\n",
       "      <td>Delhi / NCR, New Delhi</td>\n",
       "      <td>CMS Computers</td>\n",
       "      <td>9-12 Yrs</td>\n",
       "    </tr>\n",
       "    <tr>\n",
       "      <th>3</th>\n",
       "      <td>NIIT is Urgently hiring Data Analyst(Gurgaon)</td>\n",
       "      <td>Gurugram</td>\n",
       "      <td>NIIT</td>\n",
       "      <td>5-10 Yrs</td>\n",
       "    </tr>\n",
       "    <tr>\n",
       "      <th>4</th>\n",
       "      <td>Data Analyst</td>\n",
       "      <td>Delhi / NCR, Mumbai, Bengaluru</td>\n",
       "      <td>Sava Healthcare</td>\n",
       "      <td>0-5 Yrs</td>\n",
       "    </tr>\n",
       "    <tr>\n",
       "      <th>5</th>\n",
       "      <td>Data Analyst</td>\n",
       "      <td>Delhi / NCR</td>\n",
       "      <td>Client of Mount Talent Firm</td>\n",
       "      <td>5-10 Yrs</td>\n",
       "    </tr>\n",
       "    <tr>\n",
       "      <th>6</th>\n",
       "      <td>Data Analyst</td>\n",
       "      <td>Hybrid - Delhi / NCR, Bengaluru</td>\n",
       "      <td>Amazon</td>\n",
       "      <td>2-4 Yrs</td>\n",
       "    </tr>\n",
       "    <tr>\n",
       "      <th>7</th>\n",
       "      <td>Data Analyst</td>\n",
       "      <td>Gurugram(Sector 25 Gurgaon +1)</td>\n",
       "      <td>Xyle</td>\n",
       "      <td>0-1 Yrs</td>\n",
       "    </tr>\n",
       "    <tr>\n",
       "      <th>8</th>\n",
       "      <td>Data Analyst</td>\n",
       "      <td>Gurugram</td>\n",
       "      <td>Aster DM Healthcare</td>\n",
       "      <td>4-8 Yrs</td>\n",
       "    </tr>\n",
       "    <tr>\n",
       "      <th>9</th>\n",
       "      <td>Data Analyst</td>\n",
       "      <td>Delhi / NCR</td>\n",
       "      <td>Mediplus</td>\n",
       "      <td>3-5 Yrs</td>\n",
       "    </tr>\n",
       "  </tbody>\n",
       "</table>\n",
       "</div>"
      ],
      "text/plain": [
       "                                           Title  \\\n",
       "0                                   Data Analyst   \n",
       "1                                Data Analyst CX   \n",
       "2                                   Data Analyst   \n",
       "3  NIIT is Urgently hiring Data Analyst(Gurgaon)   \n",
       "4                                   Data Analyst   \n",
       "5                                   Data Analyst   \n",
       "6                                   Data Analyst   \n",
       "7                                   Data Analyst   \n",
       "8                                   Data Analyst   \n",
       "9                                   Data Analyst   \n",
       "\n",
       "                                            Location  \\\n",
       "0                           Hybrid - Gurugram, India   \n",
       "1  Kolkata, Mumbai, New Delhi, Hyderabad, Pune, C...   \n",
       "2                             Delhi / NCR, New Delhi   \n",
       "3                                           Gurugram   \n",
       "4                     Delhi / NCR, Mumbai, Bengaluru   \n",
       "5                                        Delhi / NCR   \n",
       "6                    Hybrid - Delhi / NCR, Bengaluru   \n",
       "7                     Gurugram(Sector 25 Gurgaon +1)   \n",
       "8                                           Gurugram   \n",
       "9                                        Delhi / NCR   \n",
       "\n",
       "                       Company Experience  \n",
       "0                    Birlasoft    4-6 Yrs  \n",
       "1            IDFC FIRST Bharat   5-10 Yrs  \n",
       "2                CMS Computers   9-12 Yrs  \n",
       "3                         NIIT   5-10 Yrs  \n",
       "4              Sava Healthcare    0-5 Yrs  \n",
       "5  Client of Mount Talent Firm   5-10 Yrs  \n",
       "6                       Amazon    2-4 Yrs  \n",
       "7                         Xyle    0-1 Yrs  \n",
       "8          Aster DM Healthcare    4-8 Yrs  \n",
       "9                     Mediplus    3-5 Yrs  "
      ]
     },
     "execution_count": 24,
     "metadata": {},
     "output_type": "execute_result"
    }
   ],
   "source": [
    "import pandas as pd\n",
    "df=pd.DataFrame({\"Title\":job_title,\"Location\":job_location,\"Company\":company_name,\"Experience\":experience_required})\n",
    "df"
   ]
  },
  {
   "cell_type": "markdown",
   "id": "e95a2485",
   "metadata": {},
   "source": [
    "# QUESTION NO 2"
   ]
  },
  {
   "cell_type": "code",
   "execution_count": 14,
   "id": "4cc16377",
   "metadata": {},
   "outputs": [],
   "source": [
    "driver=webdriver.Chrome()"
   ]
  },
  {
   "cell_type": "code",
   "execution_count": 15,
   "id": "42635ccd",
   "metadata": {},
   "outputs": [],
   "source": [
    "driver.get('https://www.shine.com/')"
   ]
  },
  {
   "cell_type": "code",
   "execution_count": 17,
   "id": "ff3fd1e6",
   "metadata": {},
   "outputs": [],
   "source": [
    "desig=driver.find_element(By.CLASS_NAME,\"form-control  \")\n",
    "desig.send_keys('Data Analyst')"
   ]
  },
  {
   "cell_type": "code",
   "execution_count": 16,
   "id": "029f60a2",
   "metadata": {},
   "outputs": [],
   "source": [
    "loca=driver.find_element(By.XPATH,'/html/body/div/div[4]/div/div[2]/div[2]/div/form/div/div[1]/ul/li[2]/div/input')\n",
    "loca.send_keys('Bangalore')"
   ]
  },
  {
   "cell_type": "code",
   "execution_count": 18,
   "id": "2228b160",
   "metadata": {},
   "outputs": [],
   "source": [
    "sea=driver.find_element(By.CLASS_NAME,\"searchForm_btnWrap_advance__VYBHN\")\n",
    "sea.click()"
   ]
  },
  {
   "cell_type": "code",
   "execution_count": 19,
   "id": "3d66b7de",
   "metadata": {},
   "outputs": [],
   "source": [
    "job_title1=[]\n",
    "job_location1=[]\n",
    "company_name1=[]\n",
    "experience_required1=[]"
   ]
  },
  {
   "cell_type": "code",
   "execution_count": 55,
   "id": "c1defdbe",
   "metadata": {},
   "outputs": [],
   "source": [
    "title_tag1=driver.find_elements(By.XPATH,\"jobCard_pReplaceH2__xWmHg\")\n",
    "\n",
    "for i in title_tag1[0:10]:\n",
    "    title=i.text\n",
    "    job_title1.append(title)\n",
    "    \n",
    "#scrab the location\n",
    "\n",
    "location_tag1=driver.find_elements(By.XPATH,'//div[@class=\"jobCard_jobCard_lists__fdnsc\"]/div')\n",
    "\n",
    "for i in location_tag1[0:10]:\n",
    "    location=i.text\n",
    "    job_location1.append(location)\n",
    "    \n",
    "#scrab the company\n",
    "\n",
    "company_tag1=driver.find_elements(By.XPATH,'//div[@class=\"jobCard_jobCard_lists_item__YxRkV jobCard_locationIcon__zrWt2\"]/div')\n",
    "\n",
    "for i in company_tag1[0:10]:\n",
    "    company=i.text\n",
    "    company_name1.append(company)\n",
    "\n",
    "#scrab the experice\n",
    "experience_tag=driver.find_elements(By.XPATH,'//div[@class=\" jobCard_jobCard_lists_item__YxRkV jobCard_jobIcon__3FB1t\"]')\n",
    "\n",
    "for i in experience_tag[0:10]:\n",
    "    exp=i.text\n",
    "    experience_required1.append(exp)\n",
    "    "
   ]
  },
  {
   "cell_type": "code",
   "execution_count": 56,
   "id": "db598595",
   "metadata": {},
   "outputs": [
    {
     "name": "stdout",
     "output_type": "stream",
     "text": [
      "0 70 40 20\n"
     ]
    }
   ],
   "source": [
    "print(len(job_title1),len(job_location1),len(company_name1),len(experience_required1))"
   ]
  },
  {
   "cell_type": "code",
   "execution_count": null,
   "id": "03ced0a0",
   "metadata": {},
   "outputs": [],
   "source": []
  },
  {
   "cell_type": "code",
   "execution_count": null,
   "id": "fe0ea3b1",
   "metadata": {},
   "outputs": [],
   "source": []
  },
  {
   "cell_type": "markdown",
   "id": "f3082532",
   "metadata": {},
   "source": [
    "# QUESTION NO 3"
   ]
  },
  {
   "cell_type": "code",
   "execution_count": 6,
   "id": "1ed501ca",
   "metadata": {},
   "outputs": [],
   "source": [
    "driver=webdriver.Chrome()"
   ]
  },
  {
   "cell_type": "code",
   "execution_count": 7,
   "id": "4eb07e1d",
   "metadata": {},
   "outputs": [],
   "source": [
    "driver.get('https://www.flipkart.com/apple-iphone-11-black-64-gb/product-reviews/itm4e5041ba101fd?pid=MOBFWQ6BXGJCEYNY&lid=LSTMOBFWQ6BXGJCEYNYZXSHRJ&marketplace=FLIPKART')"
   ]
  },
  {
   "cell_type": "code",
   "execution_count": 14,
   "id": "1dc3de9e",
   "metadata": {},
   "outputs": [],
   "source": [
    "Rating_1=[]\n",
    "Review_summary =[]\n",
    "Full_review =[]"
   ]
  },
  {
   "cell_type": "code",
   "execution_count": 21,
   "id": "75ac3f28",
   "metadata": {},
   "outputs": [],
   "source": [
    "rating_tag=driver.find_elements(By.XPATH,'//div[@class=\"XQDdHH Ga3i8K\"]')\n",
    "\n",
    "#scrap the rating\n",
    "for i in rating_tag[0:100]:\n",
    "    rat=i.text\n",
    "    Rating_1.append(rat)\n",
    "    \n",
    "#scrb the review\n",
    "review_tag=driver.find_elements(By.XPATH,'[class=\"z9E0IG\"')\n",
    "for i in review_tag[0:10]:\n",
    "    rew=i.text\n",
    "    Review_summary.append(rew)\n",
    "    \n",
    "                                \n",
    "                                "
   ]
  },
  {
   "cell_type": "code",
   "execution_count": null,
   "id": "cc1e08f9",
   "metadata": {},
   "outputs": [],
   "source": []
  },
  {
   "cell_type": "markdown",
   "id": "a3476179",
   "metadata": {},
   "source": [
    "# QUESTION NO 4"
   ]
  },
  {
   "cell_type": "code",
   "execution_count": 60,
   "id": "eeaba01e",
   "metadata": {},
   "outputs": [],
   "source": [
    "driver=webdriver.Chrome()"
   ]
  },
  {
   "cell_type": "code",
   "execution_count": 61,
   "id": "72406dbe",
   "metadata": {},
   "outputs": [],
   "source": [
    "driver.get('https://www.flipkart.com/')"
   ]
  },
  {
   "cell_type": "code",
   "execution_count": 66,
   "id": "5680612b",
   "metadata": {},
   "outputs": [],
   "source": [
    "Brand=[]\n",
    "Product_Description=[]\n",
    "Price=[]"
   ]
  },
  {
   "cell_type": "code",
   "execution_count": 62,
   "id": "5b32dc06",
   "metadata": {},
   "outputs": [],
   "source": [
    "desig=driver.find_element(By.CLASS_NAME,\"Pke_EE\")\n",
    "desig.send_keys('Sneakers')"
   ]
  },
  {
   "cell_type": "code",
   "execution_count": 64,
   "id": "3139b1dd",
   "metadata": {},
   "outputs": [],
   "source": [
    "search=driver.find_element(By.CLASS_NAME,\"_2iLD__\")\n",
    "search.click()"
   ]
  },
  {
   "cell_type": "code",
   "execution_count": 73,
   "id": "a945fd1b",
   "metadata": {},
   "outputs": [],
   "source": [
    "start=0\n",
    "end=2\n",
    "for page in range(start,end):\n",
    "    brand_tag=driver.find_elements(By.XPATH,'//div[@class=\"syl9yP\"]')\n",
    "    for i in brand_tag:\n",
    "        Brand.append(i.text)\n",
    "    next_button=driver.find_element(By.XPATH,'/html/body/div/div/div[3]/div[1]/div[2]/div[12]/div/div/nav/a[11]')\n",
    "    next_button.click()\n",
    "    time.sleep(3)\n"
   ]
  },
  {
   "cell_type": "code",
   "execution_count": null,
   "id": "133c85b1",
   "metadata": {},
   "outputs": [],
   "source": []
  },
  {
   "cell_type": "markdown",
   "id": "823ac70f",
   "metadata": {},
   "source": [
    "# question no 5"
   ]
  },
  {
   "cell_type": "code",
   "execution_count": 87,
   "id": "c4e59b16",
   "metadata": {},
   "outputs": [],
   "source": [
    "Title=[]\n",
    "Ratings =[]\n",
    "Price=[]"
   ]
  },
  {
   "cell_type": "code",
   "execution_count": 88,
   "id": "5f7b974a",
   "metadata": {},
   "outputs": [],
   "source": [
    "driver=webdriver.Chrome()"
   ]
  },
  {
   "cell_type": "code",
   "execution_count": 89,
   "id": "163b7424",
   "metadata": {},
   "outputs": [],
   "source": [
    "driver.get('https://www.amazon.in/')"
   ]
  },
  {
   "cell_type": "code",
   "execution_count": 93,
   "id": "33cc7e96",
   "metadata": {},
   "outputs": [
    {
     "ename": "ElementNotInteractableException",
     "evalue": "Message: element not interactable\n  (Session info: chrome=126.0.6478.127)\nStacktrace:\n\tGetHandleVerifier [0x00007FF6BC3AEEA2+31554]\n\t(No symbol) [0x00007FF6BC327ED9]\n\t(No symbol) [0x00007FF6BC1E8559]\n\t(No symbol) [0x00007FF6BC231D73]\n\t(No symbol) [0x00007FF6BC22FEDB]\n\t(No symbol) [0x00007FF6BC25D02A]\n\t(No symbol) [0x00007FF6BC22BA76]\n\t(No symbol) [0x00007FF6BC25D240]\n\t(No symbol) [0x00007FF6BC27C977]\n\t(No symbol) [0x00007FF6BC25CDD3]\n\t(No symbol) [0x00007FF6BC22A33B]\n\t(No symbol) [0x00007FF6BC22AED1]\n\tGetHandleVerifier [0x00007FF6BC6B8B1D+3217341]\n\tGetHandleVerifier [0x00007FF6BC705AE3+3532675]\n\tGetHandleVerifier [0x00007FF6BC6FB0E0+3489152]\n\tGetHandleVerifier [0x00007FF6BC45E776+750614]\n\t(No symbol) [0x00007FF6BC33375F]\n\t(No symbol) [0x00007FF6BC32EB14]\n\t(No symbol) [0x00007FF6BC32ECA2]\n\t(No symbol) [0x00007FF6BC31E16F]\n\tBaseThreadInitThunk [0x00007FFA9526257D+29]\n\tRtlUserThreadStart [0x00007FFA973EAF28+40]\n",
     "output_type": "error",
     "traceback": [
      "\u001b[1;31m---------------------------------------------------------------------------\u001b[0m",
      "\u001b[1;31mElementNotInteractableException\u001b[0m           Traceback (most recent call last)",
      "Cell \u001b[1;32mIn[93], line 2\u001b[0m\n\u001b[0;32m      1\u001b[0m designation1\u001b[38;5;241m=\u001b[39mdriver\u001b[38;5;241m.\u001b[39mfind_element(By\u001b[38;5;241m.\u001b[39mCLASS_NAME,\u001b[38;5;124m\"\u001b[39m\u001b[38;5;124mnav-search-field \u001b[39m\u001b[38;5;124m\"\u001b[39m)\n\u001b[1;32m----> 2\u001b[0m designation1\u001b[38;5;241m.\u001b[39msend_keys(\u001b[38;5;124m'\u001b[39m\u001b[38;5;124mlaptop\u001b[39m\u001b[38;5;124m'\u001b[39m)\n",
      "File \u001b[1;32m~\\anaconda3\\New folder\\Lib\\site-packages\\selenium\\webdriver\\remote\\webelement.py:231\u001b[0m, in \u001b[0;36mWebElement.send_keys\u001b[1;34m(self, *value)\u001b[0m\n\u001b[0;32m    228\u001b[0m             remote_files\u001b[38;5;241m.\u001b[39mappend(\u001b[38;5;28mself\u001b[39m\u001b[38;5;241m.\u001b[39m_upload(file))\n\u001b[0;32m    229\u001b[0m         value \u001b[38;5;241m=\u001b[39m \u001b[38;5;124m\"\u001b[39m\u001b[38;5;130;01m\\n\u001b[39;00m\u001b[38;5;124m\"\u001b[39m\u001b[38;5;241m.\u001b[39mjoin(remote_files)\n\u001b[1;32m--> 231\u001b[0m \u001b[38;5;28mself\u001b[39m\u001b[38;5;241m.\u001b[39m_execute(\n\u001b[0;32m    232\u001b[0m     Command\u001b[38;5;241m.\u001b[39mSEND_KEYS_TO_ELEMENT, {\u001b[38;5;124m\"\u001b[39m\u001b[38;5;124mtext\u001b[39m\u001b[38;5;124m\"\u001b[39m: \u001b[38;5;124m\"\u001b[39m\u001b[38;5;124m\"\u001b[39m\u001b[38;5;241m.\u001b[39mjoin(keys_to_typing(value)), \u001b[38;5;124m\"\u001b[39m\u001b[38;5;124mvalue\u001b[39m\u001b[38;5;124m\"\u001b[39m: keys_to_typing(value)}\n\u001b[0;32m    233\u001b[0m )\n",
      "File \u001b[1;32m~\\anaconda3\\New folder\\Lib\\site-packages\\selenium\\webdriver\\remote\\webelement.py:395\u001b[0m, in \u001b[0;36mWebElement._execute\u001b[1;34m(self, command, params)\u001b[0m\n\u001b[0;32m    393\u001b[0m     params \u001b[38;5;241m=\u001b[39m {}\n\u001b[0;32m    394\u001b[0m params[\u001b[38;5;124m\"\u001b[39m\u001b[38;5;124mid\u001b[39m\u001b[38;5;124m\"\u001b[39m] \u001b[38;5;241m=\u001b[39m \u001b[38;5;28mself\u001b[39m\u001b[38;5;241m.\u001b[39m_id\n\u001b[1;32m--> 395\u001b[0m \u001b[38;5;28;01mreturn\u001b[39;00m \u001b[38;5;28mself\u001b[39m\u001b[38;5;241m.\u001b[39m_parent\u001b[38;5;241m.\u001b[39mexecute(command, params)\n",
      "File \u001b[1;32m~\\anaconda3\\New folder\\Lib\\site-packages\\selenium\\webdriver\\remote\\webdriver.py:354\u001b[0m, in \u001b[0;36mWebDriver.execute\u001b[1;34m(self, driver_command, params)\u001b[0m\n\u001b[0;32m    352\u001b[0m response \u001b[38;5;241m=\u001b[39m \u001b[38;5;28mself\u001b[39m\u001b[38;5;241m.\u001b[39mcommand_executor\u001b[38;5;241m.\u001b[39mexecute(driver_command, params)\n\u001b[0;32m    353\u001b[0m \u001b[38;5;28;01mif\u001b[39;00m response:\n\u001b[1;32m--> 354\u001b[0m     \u001b[38;5;28mself\u001b[39m\u001b[38;5;241m.\u001b[39merror_handler\u001b[38;5;241m.\u001b[39mcheck_response(response)\n\u001b[0;32m    355\u001b[0m     response[\u001b[38;5;124m\"\u001b[39m\u001b[38;5;124mvalue\u001b[39m\u001b[38;5;124m\"\u001b[39m] \u001b[38;5;241m=\u001b[39m \u001b[38;5;28mself\u001b[39m\u001b[38;5;241m.\u001b[39m_unwrap_value(response\u001b[38;5;241m.\u001b[39mget(\u001b[38;5;124m\"\u001b[39m\u001b[38;5;124mvalue\u001b[39m\u001b[38;5;124m\"\u001b[39m, \u001b[38;5;28;01mNone\u001b[39;00m))\n\u001b[0;32m    356\u001b[0m     \u001b[38;5;28;01mreturn\u001b[39;00m response\n",
      "File \u001b[1;32m~\\anaconda3\\New folder\\Lib\\site-packages\\selenium\\webdriver\\remote\\errorhandler.py:229\u001b[0m, in \u001b[0;36mErrorHandler.check_response\u001b[1;34m(self, response)\u001b[0m\n\u001b[0;32m    227\u001b[0m         alert_text \u001b[38;5;241m=\u001b[39m value[\u001b[38;5;124m\"\u001b[39m\u001b[38;5;124malert\u001b[39m\u001b[38;5;124m\"\u001b[39m]\u001b[38;5;241m.\u001b[39mget(\u001b[38;5;124m\"\u001b[39m\u001b[38;5;124mtext\u001b[39m\u001b[38;5;124m\"\u001b[39m)\n\u001b[0;32m    228\u001b[0m     \u001b[38;5;28;01mraise\u001b[39;00m exception_class(message, screen, stacktrace, alert_text)  \u001b[38;5;66;03m# type: ignore[call-arg]  # mypy is not smart enough here\u001b[39;00m\n\u001b[1;32m--> 229\u001b[0m \u001b[38;5;28;01mraise\u001b[39;00m exception_class(message, screen, stacktrace)\n",
      "\u001b[1;31mElementNotInteractableException\u001b[0m: Message: element not interactable\n  (Session info: chrome=126.0.6478.127)\nStacktrace:\n\tGetHandleVerifier [0x00007FF6BC3AEEA2+31554]\n\t(No symbol) [0x00007FF6BC327ED9]\n\t(No symbol) [0x00007FF6BC1E8559]\n\t(No symbol) [0x00007FF6BC231D73]\n\t(No symbol) [0x00007FF6BC22FEDB]\n\t(No symbol) [0x00007FF6BC25D02A]\n\t(No symbol) [0x00007FF6BC22BA76]\n\t(No symbol) [0x00007FF6BC25D240]\n\t(No symbol) [0x00007FF6BC27C977]\n\t(No symbol) [0x00007FF6BC25CDD3]\n\t(No symbol) [0x00007FF6BC22A33B]\n\t(No symbol) [0x00007FF6BC22AED1]\n\tGetHandleVerifier [0x00007FF6BC6B8B1D+3217341]\n\tGetHandleVerifier [0x00007FF6BC705AE3+3532675]\n\tGetHandleVerifier [0x00007FF6BC6FB0E0+3489152]\n\tGetHandleVerifier [0x00007FF6BC45E776+750614]\n\t(No symbol) [0x00007FF6BC33375F]\n\t(No symbol) [0x00007FF6BC32EB14]\n\t(No symbol) [0x00007FF6BC32ECA2]\n\t(No symbol) [0x00007FF6BC31E16F]\n\tBaseThreadInitThunk [0x00007FFA9526257D+29]\n\tRtlUserThreadStart [0x00007FFA973EAF28+40]\n"
     ]
    }
   ],
   "source": [
    "designation1=driver.find_element(By.CLASS_NAME,\"nav-search-field \")\n",
    "designation1.send_keys('laptop')"
   ]
  },
  {
   "cell_type": "code",
   "execution_count": null,
   "id": "18aa49b7",
   "metadata": {},
   "outputs": [],
   "source": []
  },
  {
   "cell_type": "code",
   "execution_count": null,
   "id": "81b0c13e",
   "metadata": {},
   "outputs": [],
   "source": []
  },
  {
   "cell_type": "code",
   "execution_count": null,
   "id": "dff9c163",
   "metadata": {},
   "outputs": [],
   "source": []
  },
  {
   "cell_type": "code",
   "execution_count": null,
   "id": "721af910",
   "metadata": {},
   "outputs": [],
   "source": []
  }
 ],
 "metadata": {
  "kernelspec": {
   "display_name": "Python 3 (ipykernel)",
   "language": "python",
   "name": "python3"
  },
  "language_info": {
   "codemirror_mode": {
    "name": "ipython",
    "version": 3
   },
   "file_extension": ".py",
   "mimetype": "text/x-python",
   "name": "python",
   "nbconvert_exporter": "python",
   "pygments_lexer": "ipython3",
   "version": "3.11.4"
  }
 },
 "nbformat": 4,
 "nbformat_minor": 5
}
